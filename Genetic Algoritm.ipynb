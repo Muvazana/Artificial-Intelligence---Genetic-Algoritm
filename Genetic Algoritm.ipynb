{
  "nbformat": 4,
  "nbformat_minor": 0,
  "metadata": {
    "colab": {
      "name": "TuPro 1 AI Kel10.ipynb",
      "provenance": [],
      "collapsed_sections": [],
      "authorship_tag": "ABX9TyMNwhzxzPjJ3i/5+AK3sI9V",
      "include_colab_link": true
    },
    "kernelspec": {
      "name": "python3",
      "display_name": "Python 3"
    },
    "language_info": {
      "name": "python"
    }
  },
  "cells": [
    {
      "cell_type": "markdown",
      "metadata": {
        "id": "view-in-github",
        "colab_type": "text"
      },
      "source": [
        "<a href=\"https://colab.research.google.com/github/Muvazana/GeneticAlgoritm_1/blob/master/Genetic%20Algoritm.ipynb\" target=\"_parent\"><img src=\"https://colab.research.google.com/assets/colab-badge.svg\" alt=\"Open In Colab\"/></a>"
      ]
    },
    {
      "cell_type": "markdown",
      "metadata": {
        "id": "iO04Jw_dyiMT"
      },
      "source": [
        "Moch. Nauval Rizaldi Nasril\n",
        "\n",
        "Structure Model:\n",
        "\n",
        "- Population Model   : Generational Model\n",
        "- Parent Selection   : Tournament Selection\n",
        "- Xover Model        : One Point for Binary\n",
        "- Mutation Model     : Mutation for Binary\n",
        "- Selection Survivor : Elitism\n",
        "\n",
        "Structure Program: \n",
        "\n",
        "- POPULATION    is GENERATION\n",
        "- POPULATION    contain List of INDIVIDUAL\n",
        "- INDIVIDUAL    contain Fitness and KROMOSOM\n",
        "- KROMOSOM      contain List of GEN\n",
        "- GEN           Type {Binary, Integer, Real, Permutation}"
      ]
    },
    {
      "cell_type": "code",
      "metadata": {
        "colab": {
          "base_uri": "https://localhost:8080/"
        },
        "id": "-hpJ4VApyGzn",
        "outputId": "aeac2432-70b6-4e77-afe9-7359092b8b5b"
      },
      "source": [
        "!pip install beautifultable # Installation for BeautifulTable Library\n",
        "import numpy as np\n",
        "from beautifultable import BeautifulTable\n",
        "\n",
        "interval_x_y = ([-1, 2], [-1, 1])"
      ],
      "execution_count": 1,
      "outputs": [
        {
          "output_type": "stream",
          "text": [
            "Collecting beautifultable\n",
            "  Downloading https://files.pythonhosted.org/packages/87/9c/4f803f38391ec821a990f18a2f0e98bf015286976475f298d69f90d2b0f3/beautifultable-1.0.1-py2.py3-none-any.whl\n",
            "Requirement already satisfied: wcwidth in /usr/local/lib/python3.7/dist-packages (from beautifultable) (0.2.5)\n",
            "Installing collected packages: beautifultable\n",
            "Successfully installed beautifultable-1.0.1\n"
          ],
          "name": "stdout"
        }
      ]
    },
    {
      "cell_type": "code",
      "metadata": {
        "id": "nckhVwZMyUJr"
      },
      "source": [
        "def myFunc(x, y):\n",
        "    # this fucntion will return the calculate from your function you have\n",
        "    return (x ** 2 * np.sin(y ** 2)) + (x + y)"
      ],
      "execution_count": 2,
      "outputs": []
    },
    {
      "cell_type": "code",
      "metadata": {
        "id": "z_J8clLfyVJW"
      },
      "source": [
        "def fitness(f):\n",
        "    # if we want to get the maxima we use h = f\n",
        "    # if we wamt to get the minimum output we use 1/(f+a) the var you can assign 0.01 to prevent 0\n",
        "    return f"
      ],
      "execution_count": 3,
      "outputs": []
    },
    {
      "cell_type": "code",
      "metadata": {
        "id": "9UaIYzrUzm4O"
      },
      "source": [
        "def createKromosom():\n",
        "    # this function create the random Kromosom where the GEN_TYPE is Binary\n",
        "    # you can change the type of gen to integer where the interval from 0 to 9\n",
        "    # the kromosom size is size of gen in one kromosom\n",
        "    gen_type = [0, 1]  # Binary [0,1] / Integer [0,9]\n",
        "    kromosom_size = 20\n",
        "    return np.random.choice(gen_type, kromosom_size)"
      ],
      "execution_count": 4,
      "outputs": []
    },
    {
      "cell_type": "code",
      "metadata": {
        "id": "DVUZnE5GyXdW"
      },
      "source": [
        "def decodeForBinary(interval_x, interval_y, kromosom):\n",
        "    # this function will decode and return your kromosom to x and y, where the GEN_TYPE is Binary\n",
        "    # the interval_x for interval x\n",
        "    # the interval_y for interval y\n",
        "    # formula => x = r_b + ((r_a - r_b)/sum(i=1 to N; 2^-i)) * sum(i=1 to N; g_i^-i)\n",
        "    # for r_a (upper limir) and r_b (bottom_limit)\n",
        "    krom_x = kromosom[:len(kromosom)//2]\n",
        "    krom_y = kromosom[len(kromosom)//2:]\n",
        "\n",
        "    pembagi = 0    # sum(i=1 to N; 2^-i)\n",
        "    pengali_x = 0  # sum(i=1 to N; g_i^-i) for x\n",
        "    pengali_y = 0  # sum(i=1 to N; g_i^-i) for y\n",
        "\n",
        "    for i in range(len(kromosom)//2):\n",
        "        pembagi += 2 ** -(i+1)\n",
        "        pengali_x += krom_x[i] * 2 ** -(i+1)\n",
        "        pengali_y += krom_y[i] * 2 ** -(i+1)\n",
        "\n",
        "    decodeFormula = lambda interval, pengali: interval[0] + ((interval[1] - interval[0]) / pembagi) * pengali # penjelasannya mengikuti formula (ps-> lambda: adalah fungsi yang dijadikan satu line)\n",
        "\n",
        "    return decodeFormula(interval_x, pengali_x), decodeFormula(interval_y, pengali_y)"
      ],
      "execution_count": 5,
      "outputs": []
    },
    {
      "cell_type": "code",
      "metadata": {
        "id": "XVpXFp3FyYnE"
      },
      "source": [
        "def createIndividual(kromosom):\n",
        "    x, y = decodeForBinary(interval_x= interval_x_y[0], interval_y= interval_x_y[1], kromosom=kromosom)\n",
        "    fit = fitness(myFunc(x, y))\n",
        "\n",
        "    return {'fitness': fit, 'kromosom': kromosom} # dictionary"
      ],
      "execution_count": 6,
      "outputs": []
    },
    {
      "cell_type": "code",
      "metadata": {
        "id": "TGmg9qpGyZp9"
      },
      "source": [
        "def tournamentSelection(population):\n",
        "    # mengambil secara acak sejumlah (tournament_size) dan di tarungkan\n",
        "    # pengambilan pemenang berdasarkan fitness tertinggi\n",
        "    tournament_size = 2\n",
        "    rand_tournament = lambda: np.random.choice(population, tournament_size, replace=False) # proses pengambilan peserta tournament (ps-> lambda: adalah fungsi yang dijadikan satu line)\n",
        "    parent_1 = max(rand_tournament(), key=lambda x: x['fitness']) # proses pengambilan pemenang berdasarkan fitness (ps-> \"key=\" adalah parameter yang akan dijadikan acuan untuk perhitungan pemenang)\n",
        "    parent_2 = max(rand_tournament(), key=lambda x: x['fitness']) # proses pengambilan pemenang berdasarkan fitness (ps-> \"key=\" adalah parameter yang akan dijadikan acuan untuk perhitungan pemenang)\n",
        "    return parent_1['kromosom'], parent_2['kromosom']"
      ],
      "execution_count": 7,
      "outputs": []
    },
    {
      "cell_type": "code",
      "metadata": {
        "id": "Jh3NSHMSyata"
      },
      "source": [
        "def xoverBinerOnePoint(krom_parent_1, krom_parent_2, prob):\n",
        "    child1, child2 = [], []\n",
        "    randomProb = np.random.random()\n",
        "    if randomProb < prob:\n",
        "        randomPoint = np.random.randint(0, len(krom_parent_1))\n",
        "        child1[:randomPoint], child1[randomPoint:] = krom_parent_1[:randomPoint], krom_parent_2[randomPoint:]\n",
        "        child2[:randomPoint], child2[randomPoint:] = krom_parent_2[:randomPoint], krom_parent_1[randomPoint:]\n",
        "        return child1, child2\n",
        "\n",
        "    return krom_parent_1, krom_parent_2"
      ],
      "execution_count": 8,
      "outputs": []
    },
    {
      "cell_type": "code",
      "metadata": {
        "id": "nmUbh_SGyc77"
      },
      "source": [
        "def mutasiBiner(kromosom, prob):\n",
        "    mutated_krom = []\n",
        "    mutasi = False\n",
        "    for i in range(len(kromosom)):\n",
        "        random_prob = np.random.random()\n",
        "        if random_prob < prob:\n",
        "            mutasi = True\n",
        "            mutated_krom.append(0 if kromosom[i] == 1 else 1)\n",
        "        else:\n",
        "            mutated_krom.append(kromosom[i])\n",
        "\n",
        "    return mutated_krom, mutasi"
      ],
      "execution_count": 9,
      "outputs": []
    },
    {
      "cell_type": "code",
      "metadata": {
        "id": "h8VTT5Foy4yr"
      },
      "source": [
        "def createPopulation(populationSize):\n",
        "    population = []\n",
        "    for _ in range(populationSize):\n",
        "        population.append(createIndividual(list(createKromosom())))\n",
        "\n",
        "    return population"
      ],
      "execution_count": 10,
      "outputs": []
    },
    {
      "cell_type": "code",
      "metadata": {
        "id": "SFs9uTavy6F1"
      },
      "source": [
        "def showPopulation(population):\n",
        "    table = BeautifulTable(maxwidth=150)\n",
        "    table.set_style(BeautifulTable.STYLE_BOX_DOUBLED)\n",
        "    table.columns.header = [\"Fitness\", \"x\", \"y\", \"Kromosom\"]\n",
        "    tabRowHeader = []\n",
        "    for i in range(len(population)):\n",
        "        tabRowHeader.append(str(i+1))\n",
        "        x, y = decodeForBinary(interval_x=interval_x_y[0], interval_y=interval_x_y[1], kromosom=population[i]['kromosom'])\n",
        "        table.rows.append([population[i]['fitness'], x, y, population[i]['kromosom']])\n",
        "\n",
        "    table.rows.header = tabRowHeader\n",
        "    print(table)"
      ],
      "execution_count": 11,
      "outputs": []
    },
    {
      "cell_type": "code",
      "metadata": {
        "id": "CMk1UUhwy7a_"
      },
      "source": [
        "def getBestKromosom(population):\n",
        "    return max([individual for individual in population], key=lambda x: x['fitness'])\n",
        "\n",
        "def getMinKromosom(population):\n",
        "    return min([individual for individual in population], key=lambda x: x['fitness'])"
      ],
      "execution_count": 12,
      "outputs": []
    },
    {
      "cell_type": "code",
      "metadata": {
        "id": "zQB-dr49y9Rn"
      },
      "source": [
        "if __name__ == '__main__':\n",
        "    population_size = 10  # the individu will generate in one population\n",
        "    generation = 30  # the generation for generate solution (Bisa dirubah sesuka hati)\n",
        "    xover_prob = 0.9\n",
        "    mutation_prob = 0.01\n",
        "\n",
        "    population_list = createPopulation(population_size)\n",
        "\n",
        "    for gene in range(generation):\n",
        "        print(f\"*--------------------------------Generation {gene}--------------------------------*\")\n",
        "        showPopulation(population_list)\n",
        "        best_individual = getBestKromosom(population_list)\n",
        "        print(f\"----------Best Kromosom for Generation {gene}----------\")\n",
        "        print(f\"Fitness\\t\\t: {best_individual['fitness']:.3f}\")\n",
        "        print(f\"Kromosom\\t: {best_individual['kromosom']}\")\n",
        "\n",
        "        print(\"\\nCreating new Generation...\")\n",
        "        # Masuk proses Mating Pool / proses pembuatan populasi baru\n",
        "        new_population_list = []\n",
        "        for i in range(len(population_list)//2): \n",
        "            print(f\"---------->Mating Pool {i + 1}\")\n",
        "            krom_parent_1, krom_parent_2 = tournamentSelection(population_list)\n",
        "            krom_child_1, krom_child_2 = xoverBinerOnePoint(krom_parent_1, krom_parent_2, prob=xover_prob)\n",
        "            print(f\"Parent 1 {krom_parent_1}\\nParent 2 {krom_parent_2}\")\n",
        "            print(f\"\\tChild 1 {krom_child_1}\\n\\tChild 2 {krom_child_2}\")\n",
        "            krom_child_1, mutasi1 = mutasiBiner(krom_child_1, mutation_prob)\n",
        "            krom_child_2, mutasi2 = mutasiBiner(krom_child_2, mutation_prob)\n",
        "            new_population_list.append(createIndividual(krom_child_1))\n",
        "            new_population_list.append(createIndividual(krom_child_2))\n",
        "            print(f\"\\t----------Mutasi----------\")\n",
        "            print(f\"\\tChild 1 Mutation : {krom_child_1} ({'Termutasi' if mutasi1 else 'Secure'})\\n\\tChild 2 Mutation : {krom_child_2} ({'Termutasi' if mutasi2 else 'Secure'})\")\n",
        "\n",
        "        # Elitism Process\n",
        "        worst_individual = getMinKromosom(new_population_list)\n",
        "        new_population_list.remove(worst_individual)\n",
        "        new_population_list.append(best_individual)\n",
        "        population_list = new_population_list\n",
        "\n",
        "    # karena dalam proses mating pool nggak dikeluarin ditampilin last generationnya jadi ditampilin di luar loopnya\n",
        "    print(f\"*--------------------------------Generation {gene + 1}--------------------------------*\")\n",
        "    showPopulation(population_list)\n",
        "    best_individual = getBestKromosom(population_list)\n",
        "    print(f\"----------Best Kromosom for Generation {gene + 1}----------\")\n",
        "    print(f\"Fitness\\t\\t: {best_individual['fitness']:.3f}\")\n",
        "    print(f\"Kromosom\\t: {best_individual['kromosom']}\")\n",
        "    x, y = decodeForBinary(interval_x=interval_x_y[0], interval_y=interval_x_y[1], kromosom=best_individual['kromosom'])\n",
        "    print(f\"x : {x}\\ny : {y}\")"
      ],
      "execution_count": null,
      "outputs": []
    }
  ]
}